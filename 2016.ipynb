{
 "cells": [
  {
   "cell_type": "code",
   "execution_count": 2,
   "metadata": {
    "collapsed": false,
    "slideshow": {
     "slide_type": "slide"
    }
   },
   "outputs": [
    {
     "data": {
      "text/html": [
       "    <script>\n",
       "        window.__define = window.define;\n",
       "        //window.__require = window.require;\n",
       "        window.define = undefined;\n",
       "        //window.require = undefined;\n",
       "    </script>\n",
       "<script src=\"//d3js.org/d3.v3.min.js\" charset=\"utf-8\"></script>\n",
       "    <script>\n",
       "        window.define = window.__define;\n",
       "        //window.require = window.__require;\n",
       "        window.__define = undefined;\n",
       "        //window.__require = undefined;\n",
       "    </script>\n",
       "<script>\n",
       "var width = 780;\n",
       "var height = 510;\n",
       "var radius = 200;\n",
       "var innerRadius = 30;\n",
       "\n",
       "function createPie(domID, dataset) {\n",
       "    var svg = d3.select(domID).append(\"svg\")\n",
       "        .attr(\"width\", width)\n",
       "        .attr(\"height\", height)\n",
       "        .append(\"g\")\n",
       "        .attr(\"transform\", \"translate(\" + width / 2 + \",\" + height / 2 + \")\");\n",
       "\n",
       "    var arc = d3.svg.arc()\n",
       "            .outerRadius(radius)\n",
       "            .innerRadius(innerRadius);\n",
       "\n",
       "    var pie = d3.layout.pie()\n",
       "            .sort(null)\n",
       "            .value(function(d){ return d.value; });\n",
       "\n",
       "    var g = svg.selectAll(\".fan\")\n",
       "            .data(pie(dataset))\n",
       "            .enter()\n",
       "            .append(\"g\")\n",
       "            .attr(\"class\", \"fan\")\n",
       "\n",
       "    g.append(\"path\")\n",
       "        .attr(\"d\", arc)\n",
       "        .attr(\"fill\", function(d){ return d.data.color; })\n",
       "\n",
       "    g.append(\"text\")\n",
       "        .attr(\"transform\", function(d) { return \"translate(\" + arc.centroid(d) + \")\"; })\n",
       "        .style(\"text-anchor\", \"middle\")\n",
       "        .text(function(d) { return d.data.legend; });\n",
       "}\n",
       "\n",
       "</script>"
      ],
      "text/plain": [
       "<IPython.core.display.HTML object>"
      ]
     },
     "metadata": {},
     "output_type": "display_data"
    }
   ],
   "source": [
    "%%html\n",
    "    <script>\n",
    "        window.__define = window.define;\n",
    "        //window.__require = window.require;\n",
    "        window.define = undefined;\n",
    "        //window.require = undefined;\n",
    "    </script>\n",
    "<script src=\"//d3js.org/d3.v3.min.js\" charset=\"utf-8\"></script>\n",
    "    <script>\n",
    "        window.define = window.__define;\n",
    "        //window.require = window.__require;\n",
    "        window.__define = undefined;\n",
    "        //window.__require = undefined;\n",
    "    </script>\n",
    "<script>\n",
    "var width = 780;\n",
    "var height = 510;\n",
    "var radius = 200;\n",
    "var innerRadius = 30;\n",
    "\n",
    "function createPie(domID, dataset) {\n",
    "    var svg = d3.select(domID).append(\"svg\")\n",
    "        .attr(\"width\", width)\n",
    "        .attr(\"height\", height)\n",
    "        .append(\"g\")\n",
    "        .attr(\"transform\", \"translate(\" + width / 2 + \",\" + height / 2 + \")\");\n",
    "\n",
    "    var arc = d3.svg.arc()\n",
    "            .outerRadius(radius)\n",
    "            .innerRadius(innerRadius);\n",
    "\n",
    "    var pie = d3.layout.pie()\n",
    "            .sort(null)\n",
    "            .value(function(d){ return d.value; });\n",
    "\n",
    "    var g = svg.selectAll(\".fan\")\n",
    "            .data(pie(dataset))\n",
    "            .enter()\n",
    "            .append(\"g\")\n",
    "            .attr(\"class\", \"fan\")\n",
    "\n",
    "    g.append(\"path\")\n",
    "        .attr(\"d\", arc)\n",
    "        .attr(\"fill\", function(d){ return d.data.color; })\n",
    "\n",
    "    g.append(\"text\")\n",
    "        .attr(\"transform\", function(d) { return \"translate(\" + arc.centroid(d) + \")\"; })\n",
    "        .style(\"text-anchor\", \"middle\")\n",
    "        .text(function(d) { return d.data.legend; });\n",
    "}\n",
    "\n",
    "</script>"
   ]
  },
  {
   "cell_type": "markdown",
   "metadata": {
    "slideshow": {
     "slide_type": "slide"
    }
   },
   "source": [
    "# Real Sakai Lab / 酒井研究室\n",
    "\n",
    "ホームページ : [http://www.f.waseda.jp/tetsuya/](http://www.f.waseda.jp/tetsuya/) ・ [http://sakailab.com/](http://sakailab.com/)"
   ]
  },
  {
   "cell_type": "markdown",
   "metadata": {
    "slideshow": {
     "slide_type": "slide"
    }
   },
   "source": [
    "## どんなことをやってるの？"
   ]
  },
  {
   "cell_type": "markdown",
   "metadata": {
    "slideshow": {
     "slide_type": "subslide"
    }
   },
   "source": [
    "## 研究分野"
   ]
  },
  {
   "cell_type": "markdown",
   "metadata": {
    "slideshow": {
     "slide_type": "fragment"
    }
   },
   "source": [
    "## 情報アクセス"
   ]
  },
  {
   "cell_type": "markdown",
   "metadata": {
    "slideshow": {
     "slide_type": "fragment"
    }
   },
   "source": [
    "![https://gyazo.com/63787efb7caf6d19898651a0668bf1f4](https://i.gyazo.com/63787efb7caf6d19898651a0668bf1f4.png)"
   ]
  },
  {
   "cell_type": "markdown",
   "metadata": {
    "collapsed": true,
    "slideshow": {
     "slide_type": "subslide"
    }
   },
   "source": [
    "### 分野別円グラフ"
   ]
  },
  {
   "cell_type": "code",
   "execution_count": 10,
   "metadata": {
    "collapsed": false,
    "scrolled": false,
    "slideshow": {
     "slide_type": "fragment"
    }
   },
   "outputs": [
    {
     "data": {
      "text/html": [
       "<div id=\"study_junre\"></div>\n",
       "<script>\n",
       "  var dataset = [\n",
       "    {legend:\"IR\", value:7, color:\"#4FC3F7\"},\n",
       "    {legend:\"NLP\", value:7, color:\"#4DD0E1\"},\n",
       "    {legend:\"HCI\", value:2, color:\"#4DB6AC\"}\n",
       "];\n",
       "createPie(\"#study_junre\", dataset);\n",
       "</script>"
      ],
      "text/plain": [
       "<IPython.core.display.HTML object>"
      ]
     },
     "metadata": {},
     "output_type": "display_data"
    }
   ],
   "source": [
    "%%html\n",
    "<div id=\"study_junre\"></div>\n",
    "<script>\n",
    "  var dataset = [\n",
    "    {legend:\"IR\", value:7, color:\"#4FC3F7\"},\n",
    "    {legend:\"NLP\", value:7, color:\"#4DD0E1\"},\n",
    "    {legend:\"HCI\", value:2, color:\"#4DB6AC\"}\n",
    "];\n",
    "createPie(\"#study_junre\", dataset);\n",
    "</script>"
   ]
  },
  {
   "cell_type": "markdown",
   "metadata": {
    "collapsed": true,
    "slideshow": {
     "slide_type": "subslide"
    }
   },
   "source": [
    "#### 先輩の研究例\n",
    "\n",
    "* クエリ遷移意図に基づく文書誘導検索　\n",
    "* 単語ベクトルの違いによるテキスト分割の精度比較と失敗分析"
   ]
  },
  {
   "cell_type": "markdown",
   "metadata": {
    "slideshow": {
     "slide_type": "skip"
    }
   },
   "source": [
    "### 先輩の研究を引き継いだ人数"
   ]
  },
  {
   "cell_type": "code",
   "execution_count": 11,
   "metadata": {
    "collapsed": false,
    "slideshow": {
     "slide_type": "skip"
    }
   },
   "outputs": [
    {
     "data": {
      "text/html": [
       "<div>1</div>"
      ],
      "text/plain": [
       "<IPython.core.display.HTML object>"
      ]
     },
     "metadata": {},
     "output_type": "display_data"
    }
   ],
   "source": [
    "%%html\n",
    "<div>1</div>"
   ]
  },
  {
   "cell_type": "markdown",
   "metadata": {
    "slideshow": {
     "slide_type": "slide"
    }
   },
   "source": [
    "## 研究生活"
   ]
  },
  {
   "cell_type": "markdown",
   "metadata": {
    "slideshow": {
     "slide_type": "subslide"
    }
   },
   "source": [
    "### 研究関連"
   ]
  },
  {
   "cell_type": "markdown",
   "metadata": {
    "collapsed": true,
    "slideshow": {
     "slide_type": "subslide"
    }
   },
   "source": [
    "### 去年の曜日別スケジュール"
   ]
  },
  {
   "cell_type": "markdown",
   "metadata": {
    "collapsed": false,
    "slideshow": {
     "slide_type": "fragment"
    }
   },
   "source": [
    "* 火曜日 18:15 〜 Mゼミ\n",
    "* 水曜日 18:15 〜 Bゼミ"
   ]
  },
  {
   "cell_type": "markdown",
   "metadata": {
    "slideshow": {
     "slide_type": "subslide"
    }
   },
   "source": [
    "### 研究のためのツール関連"
   ]
  },
  {
   "cell_type": "markdown",
   "metadata": {
    "slideshow": {
     "slide_type": "subslide"
    }
   },
   "source": [
    "### コミュニケーションツール割合円グラフ"
   ]
  },
  {
   "cell_type": "code",
   "execution_count": 12,
   "metadata": {
    "collapsed": false,
    "slideshow": {
     "slide_type": "fragment"
    }
   },
   "outputs": [
    {
     "data": {
      "text/html": [
       "<div id=\"comunication_tool\"></div>\n",
       "<script>\n",
       "  var dataset = [\n",
       "    {legend:\"Slack\", value:9, color:\"#4FC3F7\"},\n",
       "    {legend:\"Mail\", value:1, color:\"#4DD0E1\"}\n",
       "];\n",
       "createPie(\"#comunication_tool\", dataset);\n",
       "</script>"
      ],
      "text/plain": [
       "<IPython.core.display.HTML object>"
      ]
     },
     "metadata": {},
     "output_type": "display_data"
    }
   ],
   "source": [
    "%%html\n",
    "<div id=\"comunication_tool\"></div>\n",
    "<script>\n",
    "  var dataset = [\n",
    "    {legend:\"Slack\", value:9, color:\"#4FC3F7\"},\n",
    "    {legend:\"Mail\", value:1, color:\"#4DD0E1\"}\n",
    "];\n",
    "createPie(\"#comunication_tool\", dataset);\n",
    "</script>"
   ]
  },
  {
   "cell_type": "markdown",
   "metadata": {
    "slideshow": {
     "slide_type": "subslide"
    }
   },
   "source": [
    "### 使用言語割合円グラフ"
   ]
  },
  {
   "cell_type": "code",
   "execution_count": 13,
   "metadata": {
    "collapsed": false,
    "slideshow": {
     "slide_type": "fragment"
    }
   },
   "outputs": [
    {
     "data": {
      "text/html": [
       "<div id=\"programming_language\"></div>\n",
       "<script>\n",
       "  var dataset = [\n",
       "    {legend:\"Python\", value:5, color:\"#4FC3F7\"},\n",
       "    {legend:\"C#\", value:1, color:\"#4DD0E1\"},\n",
       "    {legend:\"Ruby\", value:3, color:\"#4DB6AC\"},\n",
       "    {legend:\"Java\", value:1, color: \"#81C784\"}\n",
       "];\n",
       "createPie(\"#programming_language\", dataset);\n",
       "</script>"
      ],
      "text/plain": [
       "<IPython.core.display.HTML object>"
      ]
     },
     "metadata": {},
     "output_type": "display_data"
    }
   ],
   "source": [
    "%%html\n",
    "<div id=\"programming_language\"></div>\n",
    "<script>\n",
    "  var dataset = [\n",
    "    {legend:\"Python\", value:5, color:\"#4FC3F7\"},\n",
    "    {legend:\"C#\", value:1, color:\"#4DD0E1\"},\n",
    "    {legend:\"Ruby\", value:3, color:\"#4DB6AC\"},\n",
    "    {legend:\"Java\", value:1, color: \"#81C784\"}\n",
    "];\n",
    "createPie(\"#programming_language\", dataset);\n",
    "</script>"
   ]
  },
  {
   "cell_type": "markdown",
   "metadata": {
    "slideshow": {
     "slide_type": "subslide"
    }
   },
   "source": [
    "### その他"
   ]
  },
  {
   "cell_type": "markdown",
   "metadata": {
    "slideshow": {
     "slide_type": "subslide"
    }
   },
   "source": [
    "### 料理ジャンル割合円グラフ"
   ]
  },
  {
   "cell_type": "code",
   "execution_count": 14,
   "metadata": {
    "collapsed": false,
    "scrolled": false,
    "slideshow": {
     "slide_type": "fragment"
    }
   },
   "outputs": [
    {
     "data": {
      "text/html": [
       "<div id=\"cook_junre\"></div>\n",
       "<script>\n",
       "  var dataset = [\n",
       "    {legend:\"パスタ\", value:9, color:\"#4FC3F7\"},\n",
       "    {legend:\"炊き込みご飯\", value:1, color:\"#4DD0E1\"}\n",
       "];\n",
       "createPie(\"#cook_junre\", dataset);\n",
       "</script>"
      ],
      "text/plain": [
       "<IPython.core.display.HTML object>"
      ]
     },
     "metadata": {},
     "output_type": "display_data"
    }
   ],
   "source": [
    "%%html\n",
    "<div id=\"cook_junre\"></div>\n",
    "<script>\n",
    "  var dataset = [\n",
    "    {legend:\"パスタ\", value:9, color:\"#4FC3F7\"},\n",
    "    {legend:\"炊き込みご飯\", value:1, color:\"#4DD0E1\"}\n",
    "];\n",
    "createPie(\"#cook_junre\", dataset);\n",
    "</script>"
   ]
  },
  {
   "cell_type": "markdown",
   "metadata": {
    "slideshow": {
     "slide_type": "subslide"
    }
   },
   "source": [
    "### 楽器割合円グラフ"
   ]
  },
  {
   "cell_type": "code",
   "execution_count": 15,
   "metadata": {
    "collapsed": false,
    "scrolled": false,
    "slideshow": {
     "slide_type": "fragment"
    }
   },
   "outputs": [
    {
     "data": {
      "text/html": [
       "<div id=\"instrument_junre\"></div>\n",
       "<script>\n",
       "  var dataset = [\n",
       "    {legend:\"ベース\", value:1, color:\"#4FC3F7\"},\n",
       "    {legend:\"ピアノ\", value:3, color:\"#4DD0E1\"},\n",
       "    {legend:\"ギター\", value: 2, color: \"#4DB6AC\"},\n",
       "    {legend:\"ドラム\", value: 1, color: \"#81C784\"},\n",
       "    {legend:\"ボーカル\", value: 4, color: \"#AED581\"},\n",
       "    {legend:\"バイオリン\", value: 1, color: \"#DCE775\"},\n",
       "    {legend:\"合いの手\", value: 1, color: \"#FFF176\"}\n",
       "];\n",
       "createPie(\"#instrument_junre\", dataset);\n",
       "</script>"
      ],
      "text/plain": [
       "<IPython.core.display.HTML object>"
      ]
     },
     "metadata": {},
     "output_type": "display_data"
    }
   ],
   "source": [
    "%%html\n",
    "<div id=\"instrument_junre\"></div>\n",
    "<script>\n",
    "  var dataset = [\n",
    "    {legend:\"ベース\", value:1, color:\"#4FC3F7\"},\n",
    "    {legend:\"ピアノ\", value:3, color:\"#4DD0E1\"},\n",
    "    {legend:\"ギター\", value: 2, color: \"#4DB6AC\"},\n",
    "    {legend:\"ドラム\", value: 1, color: \"#81C784\"},\n",
    "    {legend:\"ボーカル\", value: 4, color: \"#AED581\"},\n",
    "    {legend:\"バイオリン\", value: 1, color: \"#DCE775\"},\n",
    "    {legend:\"合いの手\", value: 1, color: \"#FFF176\"}\n",
    "];\n",
    "createPie(\"#instrument_junre\", dataset);\n",
    "</script>"
   ]
  },
  {
   "cell_type": "markdown",
   "metadata": {
    "slideshow": {
     "slide_type": "subslide"
    }
   },
   "source": [
    "### 好きなお酒割合グラフ"
   ]
  },
  {
   "cell_type": "code",
   "execution_count": 16,
   "metadata": {
    "collapsed": false,
    "scrolled": false,
    "slideshow": {
     "slide_type": "fragment"
    }
   },
   "outputs": [
    {
     "data": {
      "text/html": [
       "<div id=\"alchol_junre\"></div>\n",
       "<script>\n",
       "  var dataset = [\n",
       "    {legend:\"日本酒\", value:1, color:\"#4FC3F7\"},\n",
       "    {legend:\"ワイン\", value:1, color:\"#4DD0E1\"},\n",
       "    {legend:\"ウィスキー\", value: 1, color: \"#4DB6AC\"}\n",
       "];\n",
       "createPie(\"#alchol_junre\", dataset);\n",
       "</script>"
      ],
      "text/plain": [
       "<IPython.core.display.HTML object>"
      ]
     },
     "metadata": {},
     "output_type": "display_data"
    }
   ],
   "source": [
    "%%html\n",
    "<div id=\"alchol_junre\"></div>\n",
    "<script>\n",
    "  var dataset = [\n",
    "    {legend:\"日本酒\", value:1, color:\"#4FC3F7\"},\n",
    "    {legend:\"ワイン\", value:1, color:\"#4DD0E1\"},\n",
    "    {legend:\"ウィスキー\", value: 1, color: \"#4DB6AC\"}\n",
    "];\n",
    "createPie(\"#alchol_junre\", dataset);\n",
    "</script>"
   ]
  },
  {
   "cell_type": "markdown",
   "metadata": {
    "slideshow": {
     "slide_type": "slide"
    }
   },
   "source": [
    "## 研究以外でどんなことしてる？"
   ]
  },
  {
   "cell_type": "markdown",
   "metadata": {
    "slideshow": {
     "slide_type": "fragment"
    }
   },
   "source": [
    "* (月)　進捗錬成part2\n",
    "* (火)　授業＋18:00~Mゼミ\n",
    "* (水)　授業＋18:00~Bゼミ + 夕食会\n",
    "* (木)　映画鑑賞会\n",
    "* (金)　進捗錬成part1 + 週報\n",
    "* (土)　たまに筋トレ"
   ]
  },
  {
   "cell_type": "markdown",
   "metadata": {
    "slideshow": {
     "slide_type": "slide"
    }
   },
   "source": [
    "## どんな研究室にしていきたいか！"
   ]
  },
  {
   "cell_type": "markdown",
   "metadata": {
    "slideshow": {
     "slide_type": "fragment"
    }
   },
   "source": [
    "* docker + hadoop + elasticsearch\n",
    "* インテリア\n",
    "* 酒井研デジタルライブラリ\n",
    "* 酒井研リポジトリ（ドキュメントをしっかり残して公開？）\n",
    "* あまたの部活たち・・・\n",
    "* たぶんやろうと思えば何でもできる"
   ]
  },
  {
   "cell_type": "code",
   "execution_count": null,
   "metadata": {
    "collapsed": true
   },
   "outputs": [],
   "source": []
  },
  {
   "cell_type": "code",
   "execution_count": null,
   "metadata": {
    "collapsed": true
   },
   "outputs": [],
   "source": []
  }
 ],
 "metadata": {
  "celltoolbar": "Slideshow",
  "kernelspec": {
   "display_name": "Python 2",
   "language": "python",
   "name": "python2"
  },
  "language_info": {
   "codemirror_mode": {
    "name": "ipython",
    "version": 2
   },
   "file_extension": ".py",
   "mimetype": "text/x-python",
   "name": "python",
   "nbconvert_exporter": "python",
   "pygments_lexer": "ipython2",
   "version": "2.7.9"
  }
 },
 "nbformat": 4,
 "nbformat_minor": 0
}
