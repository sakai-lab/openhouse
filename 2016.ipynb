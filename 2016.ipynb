{
 "cells": [
  {
   "cell_type": "code",
   "execution_count": 1,
   "metadata": {
    "collapsed": false,
    "slideshow": {
     "slide_type": "skip"
    }
   },
   "outputs": [
    {
     "data": {
      "text/html": [
       "<script src=\"//d3js.org/d3.v3.min.js\" charset=\"utf-8\"></script>\n",
       "<script>\n",
       "var width = 780;\n",
       "var height = 510;\n",
       "var radius = 200;\n",
       "var innerRadius = 30;\n",
       "\n",
       "function createPie(domID, dataset) {\n",
       "    var svg = d3.select(domID).append(\"svg\")\n",
       "        .attr(\"width\", width)\n",
       "        .attr(\"height\", height)\n",
       "        .append(\"g\")\n",
       "        .attr(\"transform\", \"translate(\" + width / 2 + \",\" + height / 2 + \")\");\n",
       "\n",
       "    var arc = d3.svg.arc()\n",
       "            .outerRadius(radius)\n",
       "            .innerRadius(innerRadius);\n",
       "\n",
       "    var pie = d3.layout.pie()\n",
       "            .sort(null)\n",
       "            .value(function(d){ return d.value; });\n",
       "\n",
       "    var g = svg.selectAll(\".fan\")\n",
       "            .data(pie(dataset))\n",
       "            .enter()\n",
       "            .append(\"g\")\n",
       "            .attr(\"class\", \"fan\")\n",
       "\n",
       "    g.append(\"path\")\n",
       "        .attr(\"d\", arc)\n",
       "        .attr(\"fill\", function(d){ return d.data.color; })\n",
       "\n",
       "    g.append(\"text\")\n",
       "        .attr(\"transform\", function(d) { return \"translate(\" + arc.centroid(d) + \")\"; })\n",
       "        .style(\"text-anchor\", \"middle\")\n",
       "        .text(function(d) { return d.data.legend; });\n",
       "}\n",
       "\n",
       "</script>"
      ],
      "text/plain": [
       "<IPython.core.display.HTML object>"
      ]
     },
     "metadata": {},
     "output_type": "display_data"
    }
   ],
   "source": [
    "%%html\n",
    "<script src=\"//d3js.org/d3.v3.min.js\" charset=\"utf-8\"></script>\n",
    "<script>\n",
    "var width = 780;\n",
    "var height = 510;\n",
    "var radius = 200;\n",
    "var innerRadius = 30;\n",
    "\n",
    "function createPie(domID, dataset) {\n",
    "    var svg = d3.select(domID).append(\"svg\")\n",
    "        .attr(\"width\", width)\n",
    "        .attr(\"height\", height)\n",
    "        .append(\"g\")\n",
    "        .attr(\"transform\", \"translate(\" + width / 2 + \",\" + height / 2 + \")\");\n",
    "\n",
    "    var arc = d3.svg.arc()\n",
    "            .outerRadius(radius)\n",
    "            .innerRadius(innerRadius);\n",
    "\n",
    "    var pie = d3.layout.pie()\n",
    "            .sort(null)\n",
    "            .value(function(d){ return d.value; });\n",
    "\n",
    "    var g = svg.selectAll(\".fan\")\n",
    "            .data(pie(dataset))\n",
    "            .enter()\n",
    "            .append(\"g\")\n",
    "            .attr(\"class\", \"fan\")\n",
    "\n",
    "    g.append(\"path\")\n",
    "        .attr(\"d\", arc)\n",
    "        .attr(\"fill\", function(d){ return d.data.color; })\n",
    "\n",
    "    g.append(\"text\")\n",
    "        .attr(\"transform\", function(d) { return \"translate(\" + arc.centroid(d) + \")\"; })\n",
    "        .style(\"text-anchor\", \"middle\")\n",
    "        .text(function(d) { return d.data.legend; });\n",
    "}\n",
    "\n",
    "</script>"
   ]
  },
  {
   "cell_type": "markdown",
   "metadata": {
    "slideshow": {
     "slide_type": "slide"
    }
   },
   "source": [
    "# Real Sakai Lab / 酒井研究室\n",
    "\n",
    "ホームページ : [http://www.f.waseda.jp/tetsuya/](http://www.f.waseda.jp/tetsuya/) ・ [http://sakailab.com/](http://sakailab.com/)"
   ]
  },
  {
   "cell_type": "markdown",
   "metadata": {
    "slideshow": {
     "slide_type": "slide"
    }
   },
   "source": [
    "## どんなことをやってるの？"
   ]
  },
  {
   "cell_type": "markdown",
   "metadata": {
    "slideshow": {
     "slide_type": "subslide"
    }
   },
   "source": [
    "## 研究分野"
   ]
  },
  {
   "cell_type": "markdown",
   "metadata": {
    "slideshow": {
     "slide_type": "fragment"
    }
   },
   "source": [
    "## 情報アクセス"
   ]
  },
  {
   "cell_type": "markdown",
   "metadata": {
    "slideshow": {
     "slide_type": "fragment"
    }
   },
   "source": [
    "![https://gyazo.com/63787efb7caf6d19898651a0668bf1f4](https://i.gyazo.com/63787efb7caf6d19898651a0668bf1f4.png)"
   ]
  },
  {
   "cell_type": "markdown",
   "metadata": {
    "slideshow": {
     "slide_type": "slide"
    }
   },
   "source": [
    "### 1. IR\n",
    "\n",
    "# 「必要なものを見つける技術」"
   ]
  },
  {
   "cell_type": "markdown",
   "metadata": {
    "slideshow": {
     "slide_type": "subslide"
    }
   },
   "source": [
    "#### 関連技術\n",
    "\n",
    "* 必要なのかな？？？ >> __評価技術__\n",
    "* どっちがいいだろう？？ >> __ランキングアルゴリズム__\n",
    "* どれがデータだ？？？ >> __データマイニング__, __自然言語処理__"
   ]
  },
  {
   "cell_type": "markdown",
   "metadata": {
    "slideshow": {
     "slide_type": "subslide"
    }
   },
   "source": [
    "#### ルート検索！\n"
   ]
  },
  {
   "cell_type": "markdown",
   "metadata": {
    "slideshow": {
     "slide_type": "fragment"
    }
   },
   "source": [
    "![https://files.slack.com/files-pri/T0465NP1Y-F0VD7C75M/2016-03-24__1_.png](https://files.slack.com/files-pri/T0465NP1Y-F0VD7C75M/2016-03-24__1_.png?pub_secret=6c639d9b46)"
   ]
  },
  {
   "cell_type": "markdown",
   "metadata": {
    "slideshow": {
     "slide_type": "subslide"
    }
   },
   "source": [
    "#### 顔の検索！\n",
    "マイクロフォーサーズの魅力 ーmicro four thirds: http://www.four-thirds.org/jp/special/microftmerit/merit1.html\n"
   ]
  },
  {
   "cell_type": "markdown",
   "metadata": {
    "slideshow": {
     "slide_type": "fragment"
    }
   },
   "source": [
    "![https://files.slack.com/files-pri/T0465NP1Y-F0VD0TTDL/121.jpg](https://files.slack.com/files-pri/T0465NP1Y-F0VD0TTDL/121.jpg?pub_secret=dc4d778dd7)"
   ]
  },
  {
   "cell_type": "markdown",
   "metadata": {
    "slideshow": {
     "slide_type": "subslide"
    }
   },
   "source": [
    "#### 音楽の検索"
   ]
  },
  {
   "cell_type": "markdown",
   "metadata": {
    "slideshow": {
     "slide_type": "fragment"
    }
   },
   "source": [
    "![https://files.slack.com/files-pri/T0465NP1Y-F0VDK6SCS/2016-03-24__2_.png?pub_secret=61e3ed97a4](https://files.slack.com/files-pri/T0465NP1Y-F0VDK6SCS/2016-03-24__2_.png?pub_secret=61e3ed97a4)"
   ]
  },
  {
   "cell_type": "markdown",
   "metadata": {
    "slideshow": {
     "slide_type": "slide"
    }
   },
   "source": [
    "### 2. NLP\n",
    "\n",
    "# 「コンピューターに言葉をわからせる技術」"
   ]
  },
  {
   "cell_type": "markdown",
   "metadata": {
    "slideshow": {
     "slide_type": "subslide"
    }
   },
   "source": [
    "#### 関連するもの\n",
    "* すもももももももものうち =>李, も, 桃, も, 桃, の, うち >> __形態素解析__\n",
    "* すもももももももものうち => 李も，桃も，桃のうち >> __構文解析__\n",
    "* 李も，桃も，桃なんやで、、、、仲良くしぃや >> __意味解析__"
   ]
  },
  {
   "cell_type": "markdown",
   "metadata": {
    "slideshow": {
     "slide_type": "subslide"
    }
   },
   "source": [
    "#### トピック分析\n",
    "太宰治の文学の変化をTopic Modelで分析する　－NAOKI ORII'S BLOG: http://mrorii.github.io/images/dazai/lda.png\n"
   ]
  },
  {
   "cell_type": "markdown",
   "metadata": {
    "slideshow": {
     "slide_type": "fragment"
    }
   },
   "source": [
    "![http://mrorii.github.io/images/dazai/lda.png](http://mrorii.github.io/images/dazai/lda.png)"
   ]
  },
  {
   "cell_type": "markdown",
   "metadata": {
    "slideshow": {
     "slide_type": "subslide"
    }
   },
   "source": [
    "#### Word2Vec\n",
    "「word2vecによる自然言語処理」を出版しました　－西尾泰和のはてなダイアリー : http://d.hatena.ne.jp/nishiohirokazu/20140606/1401983909"
   ]
  },
  {
   "cell_type": "markdown",
   "metadata": {
    "slideshow": {
     "slide_type": "fragment"
    }
   },
   "source": [
    "![http://cdn-ak.f.st-hatena.com/images/fotolife/n/nishiohirokazu/20140606/20140606005140.png](http://cdn-ak.f.st-hatena.com/images/fotolife/n/nishiohirokazu/20140606/20140606005140.png)"
   ]
  },
  {
   "cell_type": "markdown",
   "metadata": {
    "slideshow": {
     "slide_type": "slide"
    }
   },
   "source": [
    "### 3. HCI\n",
    "\n",
    "# 「人とコンピューターをつなぐ技術」"
   ]
  },
  {
   "cell_type": "markdown",
   "metadata": {
    "slideshow": {
     "slide_type": "subslide"
    }
   },
   "source": [
    "#### 関連するもの\n",
    "* 人の動作を伝える >> __センサ__\n",
    "* 意味のある動作を見つける >> __データマイニング__"
   ]
  },
  {
   "cell_type": "markdown",
   "metadata": {
    "slideshow": {
     "slide_type": "subslide"
    }
   },
   "source": [
    "#### Google Glasses\n",
    "Google Glasses (Project Glass) : The Future of Human Computer Interaction? -USABILITYGEEK : http://usabilitygeek.com/google-glasses-project-glass-the-future-of-human-computer-interaction/"
   ]
  },
  {
   "cell_type": "markdown",
   "metadata": {
    "slideshow": {
     "slide_type": "fragment"
    }
   },
   "source": [
    "![http://usabilitygeek.com/wp-content/uploads/2012/05/Google-Glasses-Project-Glass-The-Future-of-HCI1.jpg](http://usabilitygeek.com/wp-content/uploads/2012/05/Google-Glasses-Project-Glass-The-Future-of-HCI1.jpg)"
   ]
  },
  {
   "cell_type": "markdown",
   "metadata": {
    "slideshow": {
     "slide_type": "slide"
    }
   },
   "source": [
    "# 「どのデータをどうやって意味づけるか」"
   ]
  },
  {
   "cell_type": "markdown",
   "metadata": {
    "collapsed": true,
    "slideshow": {
     "slide_type": "slide"
    }
   },
   "source": [
    "### 研究分野について"
   ]
  },
  {
   "cell_type": "code",
   "execution_count": 2,
   "metadata": {
    "collapsed": false,
    "scrolled": false,
    "slideshow": {
     "slide_type": "fragment"
    }
   },
   "outputs": [
    {
     "data": {
      "text/html": [
       "<div id=\"study_junre\"></div>\n",
       "<script>\n",
       "  var dataset = [\n",
       "    {legend:\"IR\", value:7, color:\"#4FC3F7\"},\n",
       "    {legend:\"NLP\", value:7, color:\"#4DD0E1\"},\n",
       "    {legend:\"HCI\", value:2, color:\"#4DB6AC\"}\n",
       "];\n",
       "createPie(\"#study_junre\", dataset);\n",
       "</script>"
      ],
      "text/plain": [
       "<IPython.core.display.HTML object>"
      ]
     },
     "metadata": {},
     "output_type": "display_data"
    }
   ],
   "source": [
    "%%html\n",
    "<div id=\"study_junre\"></div>\n",
    "<script>\n",
    "  var dataset = [\n",
    "    {legend:\"IR\", value:7, color:\"#4FC3F7\"},\n",
    "    {legend:\"NLP\", value:7, color:\"#4DD0E1\"},\n",
    "    {legend:\"HCI\", value:2, color:\"#4DB6AC\"}\n",
    "];\n",
    "createPie(\"#study_junre\", dataset);\n",
    "</script>"
   ]
  },
  {
   "cell_type": "markdown",
   "metadata": {
    "collapsed": true,
    "slideshow": {
     "slide_type": "subslide"
    }
   },
   "source": [
    "#### 先輩の研究例\n",
    "\n",
    "#### 1. IR\n",
    "* クエリを変えたときの意図を察して、結果を変えるシステム　\n",
    "* 翻訳システムをつかった言語横断検索\n",
    "\n",
    "#### 2. NLP\n",
    "* 単語ベクトルを用いたテキストの分割\n",
    "* NNをつかって人格シミュレート\n",
    "\n",
    "#### 3. HCI\n",
    "* チームで検索ワードを共有して、コミュニケーションを活発にしよう\n",
    "* 睡眠状況をシェアしてみんなで健康を気遣う"
   ]
  },
  {
   "cell_type": "markdown",
   "metadata": {
    "slideshow": {
     "slide_type": "slide"
    }
   },
   "source": [
    "### 何を使って研究してるの？？言語編"
   ]
  },
  {
   "cell_type": "code",
   "execution_count": 3,
   "metadata": {
    "collapsed": false,
    "slideshow": {
     "slide_type": "fragment"
    }
   },
   "outputs": [
    {
     "data": {
      "text/html": [
       "<div id=\"programming_language\"></div>\n",
       "<script>\n",
       "  var dataset = [\n",
       "    {legend:\"Python\", value:5, color:\"#4FC3F7\"},\n",
       "    {legend:\"C#\", value:1, color:\"#4DD0E1\"},\n",
       "    {legend:\"Ruby\", value:3, color:\"#4DB6AC\"},\n",
       "    {legend:\"Java\", value:1, color: \"#81C784\"}\n",
       "];\n",
       "createPie(\"#programming_language\", dataset);\n",
       "</script>"
      ],
      "text/plain": [
       "<IPython.core.display.HTML object>"
      ]
     },
     "metadata": {},
     "output_type": "display_data"
    }
   ],
   "source": [
    "%%html\n",
    "<div id=\"programming_language\"></div>\n",
    "<script>\n",
    "  var dataset = [\n",
    "    {legend:\"Python\", value:5, color:\"#4FC3F7\"},\n",
    "    {legend:\"C#\", value:1, color:\"#4DD0E1\"},\n",
    "    {legend:\"Ruby\", value:3, color:\"#4DB6AC\"},\n",
    "    {legend:\"Java\", value:1, color: \"#81C784\"}\n",
    "];\n",
    "createPie(\"#programming_language\", dataset);\n",
    "</script>"
   ]
  },
  {
   "cell_type": "markdown",
   "metadata": {
    "slideshow": {
     "slide_type": "subslide"
    }
   },
   "source": [
    "### 何を使って研究してるの？？コミュニケーション編"
   ]
  },
  {
   "cell_type": "code",
   "execution_count": 4,
   "metadata": {
    "collapsed": false,
    "slideshow": {
     "slide_type": "fragment"
    }
   },
   "outputs": [
    {
     "data": {
      "text/html": [
       "<div id=\"comunication_tool\"></div>\n",
       "<script>\n",
       "  var dataset = [\n",
       "    {legend:\"Slack\", value:7, color:\"#4FC3F7\"},\n",
       "    {legend:\"Conv\", value:2, color:\"#4DD0E1\"},\n",
       "    {legend:\"Mail\", value:1, color:\"#4DB6AC\"}\n",
       "];\n",
       "createPie(\"#comunication_tool\", dataset);\n",
       "</script>"
      ],
      "text/plain": [
       "<IPython.core.display.HTML object>"
      ]
     },
     "metadata": {},
     "output_type": "display_data"
    }
   ],
   "source": [
    "%%html\n",
    "<div id=\"comunication_tool\"></div>\n",
    "<script>\n",
    "  var dataset = [\n",
    "    {legend:\"Slack\", value:7, color:\"#4FC3F7\"},\n",
    "    {legend:\"Conv\", value:2, color:\"#4DD0E1\"},\n",
    "    {legend:\"Mail\", value:1, color:\"#4DB6AC\"}\n",
    "];\n",
    "createPie(\"#comunication_tool\", dataset);\n",
    "</script>"
   ]
  },
  {
   "cell_type": "markdown",
   "metadata": {
    "slideshow": {
     "slide_type": "subslide"
    }
   },
   "source": [
    "### Slack"
   ]
  },
  {
   "cell_type": "markdown",
   "metadata": {
    "slideshow": {
     "slide_type": "fragment"
    }
   },
   "source": [
    "![https://files.slack.com/files-pri/T0465NP1Y-F0VD5TGA0/2016-03-25.png?pub_secret=0daa0d6043](https://files.slack.com/files-pri/T0465NP1Y-F0VD5TGA0/2016-03-25.png?pub_secret=0daa0d6043)"
   ]
  },
  {
   "cell_type": "markdown",
   "metadata": {
    "slideshow": {
     "slide_type": "subslide"
    }
   },
   "source": [
    "### GitHub"
   ]
  },
  {
   "cell_type": "markdown",
   "metadata": {
    "slideshow": {
     "slide_type": "fragment"
    }
   },
   "source": [
    "![https://files.slack.com/files-pri/T0465NP1Y-F0VD5TY84/2016-03-25__1_.png?pub_secret=72ce015941](https://files.slack.com/files-pri/T0465NP1Y-F0VD5TY84/2016-03-25__1_.png?pub_secret=72ce015941)"
   ]
  },
  {
   "cell_type": "markdown",
   "metadata": {
    "slideshow": {
     "slide_type": "subslide"
    }
   },
   "source": [
    "### プロジェクト進行中 （予定）"
   ]
  },
  {
   "cell_type": "markdown",
   "metadata": {
    "slideshow": {
     "slide_type": "fragment"
    }
   },
   "source": [
    "#### 研究室\n",
    "* キッチンきれいにしよう\n",
    "* 復刻・映画鑑賞会\n",
    "* コーヒーシステム最適可\n",
    "* 酒井研デジタルライブラリ\n",
    "\n",
    "#### 研究\n",
    "* WikiとかHPとかの改修\n",
    "* アクセスログ解析(sensu + uchiwaとか)\n",
    "* docker + hadoop + spark なスケールできるクラスタ環境\n",
    "\n",
    "などなど。。。。\n"
   ]
  },
  {
   "cell_type": "markdown",
   "metadata": {
    "slideshow": {
     "slide_type": "slide"
    }
   },
   "source": [
    "## 研究生活"
   ]
  },
  {
   "cell_type": "markdown",
   "metadata": {
    "slideshow": {
     "slide_type": "subslide"
    }
   },
   "source": [
    "### 年間スケジュール"
   ]
  },
  {
   "cell_type": "markdown",
   "metadata": {
    "slideshow": {
     "slide_type": "fragment"
    }
   },
   "source": [
    "#### 4~7月\n",
    "* リサーチ期間\n",
    "* 週１のゼミで論文発表がメイン\n",
    "\n",
    "#### 夏休み\n",
    "* __夏合宿__が50パーセントの確率であるよ！\n",
    "* 中間発表的な >> __研究テーマ発表__\n",
    "\n",
    "#### 10~12月\n",
    "* システムつくったり、実験したり\n",
    "* 論文かいたり\n",
    "* DEIM(学会)に投稿したりする\n",
    "\n",
    "#### 1月・2月\n",
    "└(┐┘)┌研究!!研究!!└(┐└(┐┘└(┐┘)┌)┌┘)┌ｳｵｵｫﾝ!!!!研究が加速するｳｳｳｳｳｳ三╰( ^o^)╮-=ﾆ= =͟͟͞͞=͟͟͞͞=͟͟͞͞(┐┘)┌ｿﾂﾛｫｵｵｵｵｵｵﾝwwwww\n",
    "\n",
    "(✌'ω')✌"
   ]
  },
  {
   "cell_type": "markdown",
   "metadata": {
    "collapsed": true,
    "slideshow": {
     "slide_type": "subslide"
    }
   },
   "source": [
    "### 週刊スケジュール"
   ]
  },
  {
   "cell_type": "markdown",
   "metadata": {
    "collapsed": false,
    "slideshow": {
     "slide_type": "fragment"
    }
   },
   "source": [
    "* (月)  進捗が迫ってくる\n",
    "* (火) __Mゼミ__ （+ 料理）\n",
    "* (水) __Bゼミ__ （＋料理）\n",
    "* (木) (((。ε°)))\n",
    "* (金) 進捗錬成　+　__週報__\n",
    "* (土) 映画鑑賞会とか筋トレとか？？\n",
    "* (日) (((。3°)))"
   ]
  },
  {
   "cell_type": "markdown",
   "metadata": {
    "slideshow": {
     "slide_type": "subslide"
    }
   },
   "source": [
    "### 過去にあったイベントとか"
   ]
  },
  {
   "cell_type": "markdown",
   "metadata": {
    "slideshow": {
     "slide_type": "fragment"
    }
   },
   "source": [
    "* 夏合宿・卒業旅行\n",
    "* 新入生Welcome Party！\n",
    "* おつかれパーティ\n",
    "* ハッカソン * 2\n",
    "* 演奏会 + 学科パーティ\n",
    "* 週刊映画鑑賞部\n",
    "* 筋トレ部\n",
    "* DIY部\n",
    "* 料理部\n",
    "とか・・・・・・・・"
   ]
  },
  {
   "cell_type": "markdown",
   "metadata": {
    "slideshow": {
     "slide_type": "subslide"
    }
   },
   "source": [
    "### シェフ募集"
   ]
  },
  {
   "cell_type": "code",
   "execution_count": 5,
   "metadata": {
    "collapsed": false,
    "scrolled": false,
    "slideshow": {
     "slide_type": "fragment"
    }
   },
   "outputs": [
    {
     "data": {
      "text/html": [
       "<div id=\"cook_junre\"></div>\n",
       "<script>\n",
       "  var dataset = [\n",
       "    {legend:\"パスタ\", value:9, color:\"#4FC3F7\"},\n",
       "    {legend:\"炊き込みご飯\", value:1, color:\"#4DD0E1\"}\n",
       "];\n",
       "createPie(\"#cook_junre\", dataset);\n",
       "</script>"
      ],
      "text/plain": [
       "<IPython.core.display.HTML object>"
      ]
     },
     "metadata": {},
     "output_type": "display_data"
    }
   ],
   "source": [
    "%%html\n",
    "<div id=\"cook_junre\"></div>\n",
    "<script>\n",
    "  var dataset = [\n",
    "    {legend:\"パスタ\", value:9, color:\"#4FC3F7\"},\n",
    "    {legend:\"炊き込みご飯\", value:1, color:\"#4DD0E1\"}\n",
    "];\n",
    "createPie(\"#cook_junre\", dataset);\n",
    "</script>"
   ]
  },
  {
   "cell_type": "markdown",
   "metadata": {
    "slideshow": {
     "slide_type": "subslide"
    }
   },
   "source": [
    "#### シェフが本気出したとき"
   ]
  },
  {
   "cell_type": "markdown",
   "metadata": {
    "slideshow": {
     "slide_type": "fragment"
    }
   },
   "source": [
    "![https://files.slack.com/files-pri/T0465NP1Y-F0TTM0LKZ/party.jpg?pub_secret=cb4fb9a9eb](https://files.slack.com/files-pri/T0465NP1Y-F0TTM0LKZ/party.jpg?pub_secret=cb4fb9a9eb)"
   ]
  },
  {
   "cell_type": "markdown",
   "metadata": {
    "slideshow": {
     "slide_type": "subslide"
    }
   },
   "source": [
    "### 好きなお酒は？"
   ]
  },
  {
   "cell_type": "code",
   "execution_count": 6,
   "metadata": {
    "collapsed": false,
    "scrolled": false,
    "slideshow": {
     "slide_type": "fragment"
    }
   },
   "outputs": [
    {
     "data": {
      "text/html": [
       "<div id=\"alchol_junre\"></div>\n",
       "<script>\n",
       "  var dataset = [\n",
       "    {legend:\"日本酒\", value:1, color:\"#4FC3F7\"},\n",
       "    {legend:\"ワイン\", value:1, color:\"#4DD0E1\"},\n",
       "    {legend:\"ウィスキー\", value: 1, color: \"#4DB6AC\"}\n",
       "];\n",
       "createPie(\"#alchol_junre\", dataset);\n",
       "</script>"
      ],
      "text/plain": [
       "<IPython.core.display.HTML object>"
      ]
     },
     "metadata": {},
     "output_type": "display_data"
    }
   ],
   "source": [
    "%%html\n",
    "<div id=\"alchol_junre\"></div>\n",
    "<script>\n",
    "  var dataset = [\n",
    "    {legend:\"日本酒\", value:1, color:\"#4FC3F7\"},\n",
    "    {legend:\"ワイン\", value:1, color:\"#4DD0E1\"},\n",
    "    {legend:\"ウィスキー\", value: 1, color: \"#4DB6AC\"}\n",
    "];\n",
    "createPie(\"#alchol_junre\", dataset);\n",
    "</script>"
   ]
  },
  {
   "cell_type": "markdown",
   "metadata": {
    "slideshow": {
     "slide_type": "subslide"
    }
   },
   "source": [
    "### 何か弾ける人ﾉｼ"
   ]
  },
  {
   "cell_type": "code",
   "execution_count": 7,
   "metadata": {
    "collapsed": false,
    "scrolled": false,
    "slideshow": {
     "slide_type": "fragment"
    }
   },
   "outputs": [
    {
     "data": {
      "text/html": [
       "<div id=\"instrument_junre\"></div>\n",
       "<script>\n",
       "  var dataset = [\n",
       "    {legend:\"ベース\", value:1, color:\"#4FC3F7\"},\n",
       "    {legend:\"ピアノ\", value:3, color:\"#4DD0E1\"},\n",
       "    {legend:\"ギター\", value: 2, color: \"#4DB6AC\"},\n",
       "    {legend:\"ドラム\", value: 1, color: \"#81C784\"},\n",
       "    {legend:\"ボーカル\", value: 4, color: \"#AED581\"},\n",
       "    {legend:\"バイオリン\", value: 1, color: \"#DCE775\"},\n",
       "    {legend:\"合いの手\", value: 1, color: \"#FFF176\"}\n",
       "];\n",
       "createPie(\"#instrument_junre\", dataset);\n",
       "</script>"
      ],
      "text/plain": [
       "<IPython.core.display.HTML object>"
      ]
     },
     "metadata": {},
     "output_type": "display_data"
    }
   ],
   "source": [
    "%%html\n",
    "<div id=\"instrument_junre\"></div>\n",
    "<script>\n",
    "  var dataset = [\n",
    "    {legend:\"ベース\", value:1, color:\"#4FC3F7\"},\n",
    "    {legend:\"ピアノ\", value:3, color:\"#4DD0E1\"},\n",
    "    {legend:\"ギター\", value: 2, color: \"#4DB6AC\"},\n",
    "    {legend:\"ドラム\", value: 1, color: \"#81C784\"},\n",
    "    {legend:\"ボーカル\", value: 4, color: \"#AED581\"},\n",
    "    {legend:\"バイオリン\", value: 1, color: \"#DCE775\"},\n",
    "    {legend:\"合いの手\", value: 1, color: \"#FFF176\"}\n",
    "];\n",
    "createPie(\"#instrument_junre\", dataset);\n",
    "</script>"
   ]
  },
  {
   "cell_type": "markdown",
   "metadata": {
    "slideshow": {
     "slide_type": "slide"
    }
   },
   "source": [
    "## 酒井研究室のメリット"
   ]
  },
  {
   "cell_type": "markdown",
   "metadata": {
    "slideshow": {
     "slide_type": "fragment"
    }
   },
   "source": [
    "## ・時間がたくさん\n",
    "\n",
    "## ・とにかく自由\n",
    "\n",
    "## ・サポートが手厚い（はずだ）\n",
    "\n",
    "ブラックそう。。。。。。。。。"
   ]
  }
 ],
 "metadata": {
  "celltoolbar": "Slideshow",
  "kernelspec": {
   "display_name": "Python 2",
   "language": "python",
   "name": "python2"
  },
  "language_info": {
   "codemirror_mode": {
    "name": "ipython",
    "version": 2
   },
   "file_extension": ".py",
   "mimetype": "text/x-python",
   "name": "python",
   "nbconvert_exporter": "python",
   "pygments_lexer": "ipython2",
   "version": "2.7.10"
  }
 },
 "nbformat": 4,
 "nbformat_minor": 0
}
